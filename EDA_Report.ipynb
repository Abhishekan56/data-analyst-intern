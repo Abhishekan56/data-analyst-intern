{
 "cells": [
  {
   "cell_type": "markdown",
   "id": "de39870f",
   "metadata": {},
   "source": [
    "\n",
    "# Exploratory Data Analysis (EDA) Report\n",
    "\n",
    "This notebook contains a detailed EDA on the provided dataset.\n"
   ]
  },
  {
   "cell_type": "code",
   "execution_count": null,
   "id": "b64f0beb",
   "metadata": {},
   "outputs": [],
   "source": [
    "\n",
    "import pandas as pd\n",
    "import matplotlib.pyplot as plt\n",
    "import seaborn as sns\n",
    "\n",
    "# Load dataset\n",
    "data = pd.read_excel('/mnt/data/train.xlsx')\n",
    "data.head()\n"
   ]
  },
  {
   "cell_type": "markdown",
   "id": "a941c22a",
   "metadata": {},
   "source": [
    "## Data Information"
   ]
  },
  {
   "cell_type": "code",
   "execution_count": null,
   "id": "c73e2181",
   "metadata": {},
   "outputs": [],
   "source": [
    "data.info()"
   ]
  },
  {
   "cell_type": "markdown",
   "id": "5e09b0b5",
   "metadata": {},
   "source": [
    "## Statistical Description"
   ]
  },
  {
   "cell_type": "code",
   "execution_count": null,
   "id": "a045c45a",
   "metadata": {},
   "outputs": [],
   "source": [
    "data.describe()"
   ]
  },
  {
   "cell_type": "markdown",
   "id": "e11cecc4",
   "metadata": {},
   "source": [
    "## Missing Values"
   ]
  },
  {
   "cell_type": "code",
   "execution_count": null,
   "id": "60b6a6de",
   "metadata": {},
   "outputs": [],
   "source": [
    "data.isnull().sum()"
   ]
  },
  {
   "cell_type": "markdown",
   "id": "7677d952",
   "metadata": {},
   "source": [
    "## Univariate Analysis"
   ]
  },
  {
   "cell_type": "code",
   "execution_count": null,
   "id": "bed6fdcb",
   "metadata": {},
   "outputs": [],
   "source": [
    "\n",
    "for column in data.select_dtypes(include=['float64', 'int64']).columns:\n",
    "    plt.figure(figsize=(6,4))\n",
    "    sns.histplot(data[column], kde=True, color='blue')\n",
    "    plt.title(f'Distribution of {column}')\n",
    "    plt.show()\n"
   ]
  },
  {
   "cell_type": "markdown",
   "id": "d535932b",
   "metadata": {},
   "source": [
    "## Correlation Heatmap"
   ]
  },
  {
   "cell_type": "code",
   "execution_count": null,
   "id": "0908e45c",
   "metadata": {},
   "outputs": [],
   "source": [
    "\n",
    "plt.figure(figsize=(10,8))\n",
    "sns.heatmap(data.corr(), annot=True, cmap='coolwarm')\n",
    "plt.title('Correlation Heatmap')\n",
    "plt.show()\n"
   ]
  }
 ],
 "metadata": {},
 "nbformat": 4,
 "nbformat_minor": 5
}
